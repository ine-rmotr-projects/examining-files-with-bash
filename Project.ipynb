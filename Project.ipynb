{
 "cells": [
  {
   "cell_type": "markdown",
   "metadata": {},
   "source": [
    "![ine-divider](https://user-images.githubusercontent.com/7065401/92672068-398e8080-f2ee-11ea-82d6-ad53f7feb5c0.png)\n",
    "<hr>\n",
    "\n",
    "### Bash Scripting for Data Scientists\n",
    "# Examining files with bash\n",
    "\n",
    "This project will have somewhat unusual requirements among INE data science courses.  Most such projects ask you to complete cells in a notebook such as this.  However, working with the command line necessarily is about the command line, not notebooks.  \n",
    "\n",
    "There *does* exist a bash kernel for Jupyter, which this notebook is saved as. To install it execute in your terminal:\n",
    "\n",
    "```\n",
    "pip install bash_kernel\n",
    "python -m bash_kernel.install\n",
    "```\n",
    "\n",
    "and restart your Notebook.\n",
    "\n",
    "However, the kinds of interactivity you have at a shell are much more flexible than in a notebook.  However, you *can* run bash commands if you install that Jupyter kernel. E.g.:"
   ]
  },
  {
   "cell_type": "code",
   "execution_count": 1,
   "metadata": {},
   "outputs": [
    {
     "name": "stdout",
     "output_type": "stream",
     "text": [
      "total 48K\n",
      "drwxrwxr-x 11 dmertz dmertz 4.0K Dec 20 23:00 .\n",
      "drwxr-xr-x 15 dmertz dmertz 4.0K Dec 19 21:17 ..\n",
      "drwxrwxr-x  3 dmertz dmertz 4.0K Dec 20 19:23 00-Introduction\n",
      "drwxrwxr-x  3 dmertz dmertz 4.0K Dec 21 00:36 01-Working-with-Command-Line\n",
      "drwxrwxr-x  3 dmertz dmertz 4.0K Dec 21 17:22 02-The-Unix-Philosophy\n",
      "drwxrwxr-x  3 dmertz dmertz 4.0K Dec 18 20:56 03-Text-Manipulation\n",
      "drwxrwxr-x  3 dmertz dmertz 4.0K Dec 18 23:08 04-Special-Formats\n",
      "drwxrwxr-x  2 dmertz dmertz 4.0K Dec 12 01:06 05-Cron-and-Config\n",
      "drwxrwxr-x  2 dmertz dmertz 4.0K Dec 12 01:06 06-Scripts\n",
      "drwxrwxr-x  3 dmertz dmertz 4.0K Dec 20 19:46 99-Conclusion\n",
      "drwxrwxr-x  2 dmertz dmertz 4.0K Dec 12 14:02 .ipynb_checkpoints\n",
      "-rw-rw-r--  1 dmertz dmertz 1.3K Dec 20 23:00 trailer.md\n"
     ]
    }
   ],
   "source": [
    "ls -lah .."
   ]
  },
  {
   "cell_type": "markdown",
   "metadata": {},
   "source": [
    "If you are using a Python kernel in Jupyter, you can run bash commands in cells using the `%%bash` \"magic\". E.g.\n",
    "\n",
    "```\n",
    "%%bash\n",
    "ls -lah ..\n",
    "```"
   ]
  },
  {
   "cell_type": "markdown",
   "metadata": {},
   "source": [
    "![orange-divider](https://user-images.githubusercontent.com/7065401/92672455-187a5f80-f2ef-11ea-890c-40be9474f7b7.png)"
   ]
  },
  {
   "cell_type": "markdown",
   "metadata": {},
   "source": [
    "## Part 1\n",
    "\n",
    "**Small tools, each doing one job well**\n",
    "\n",
    "For this task, we will create and examine some files.  Follow the instructions given in bullets.  In the \"Everything is a file\" video, we discussed redirection.  E.g.:"
   ]
  },
  {
   "cell_type": "code",
   "execution_count": 2,
   "metadata": {},
   "outputs": [
    {
     "name": "stdout",
     "output_type": "stream",
     "text": [
      "Test 1\n",
      "1 2 7 test1\n"
     ]
    }
   ],
   "source": [
    "echo \"Test 1\" > test1\n",
    "cat test1\n",
    "wc test1\n",
    "rm test1"
   ]
  },
  {
   "cell_type": "markdown",
   "metadata": {},
   "source": [
    "* Create the following files, each with the corresponding content:\n",
    "\n",
    "| Filename    | Content\n",
    "|-------------|-----------------------\n",
    "| testBash    | Text of testBash\n",
    "| testbash    | Text of testbash\n",
    "| test_A      | test_A_123\n",
    "| test_AA     | test_AA_456\n",
    "| test_B      | test_B_789\n",
    "| text_C      | test_C_012\n",
    "| test_X      | test_X_345\n",
    "| test_XX     | text_XX_678\n",
    "| test Z      | test space Z\n",
    "| test ZZ     | test space ZZ\n",
    "| test1       | some test file\n",
    "| test2       | some other test file\n",
    "\n",
    "* For the files `test_A`, `test_C`, `test_X` and `test_XX` (only) display the final numeric part of the content.  I.e.\n",
    "\n",
    "```bash\n",
    "% [some_command_and_pipes]\n",
    "123\n",
    "012\n",
    "345\n",
    "678\n",
    "```\n",
    "\n",
    "* Count the number of words in all files whose names contain spaces."
   ]
  },
  {
   "cell_type": "markdown",
   "metadata": {},
   "source": [
    "![orange-divider](https://user-images.githubusercontent.com/7065401/92672455-187a5f80-f2ef-11ea-890c-40be9474f7b7.png)\n",
    "\n",
    "## Part 2\n",
    "\n",
    "**Everything is a file**\n",
    "\n",
    "* For all the test files you created, we would like a histogram of the frequency of the first four letters of their bodies.  I.e.:\n",
    "\n",
    "```\n",
    "8 test\n",
    "2 some\n",
    "2 Text\n",
    "```\n",
    "\n",
    "* Display all of the test files in a two column display.  However, we wish to alphabetize names left-to-right not up-to-down first.  Also, do not show quotes in names with spaces in them.  I.e. the correct display should be:\n",
    "\n",
    "```\n",
    "test1\t  test2\n",
    "test_A\t  test_AA\n",
    "test_B\t  testbash\n",
    "testBash  test_C\n",
    "test_X\t  test_XX\n",
    "test Z\t  test ZZ\n",
    "```\n",
    "\n",
    "* Remove all the test files when you are done with the task.\n"
   ]
  },
  {
   "cell_type": "markdown",
   "metadata": {},
   "source": [
    "![orange-divider](https://user-images.githubusercontent.com/7065401/92672455-187a5f80-f2ef-11ea-890c-40be9474f7b7.png)"
   ]
  }
 ],
 "metadata": {
  "kernelspec": {
   "display_name": "Bash",
   "language": "bash",
   "name": "bash"
  },
  "language_info": {
   "codemirror_mode": "shell",
   "file_extension": ".sh",
   "mimetype": "text/x-sh",
   "name": "bash"
  }
 },
 "nbformat": 4,
 "nbformat_minor": 4
}
